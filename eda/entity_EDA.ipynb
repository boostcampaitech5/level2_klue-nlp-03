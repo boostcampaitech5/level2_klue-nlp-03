{
 "cells": [
  {
   "cell_type": "code",
   "execution_count": 69,
   "metadata": {},
   "outputs": [],
   "source": [
    "import pandas as pd\n",
    "import numpy as np\n",
    "import re\n",
    "import matplotlib.pyplot as plt\n"
   ]
  },
  {
   "attachments": {},
   "cell_type": "markdown",
   "metadata": {},
   "source": [
    "## Preporcessing\n",
    "- subject_entity와 object_entity의 데이터를 전처리하여 dictionary 형태로 변환"
   ]
  },
  {
   "cell_type": "code",
   "execution_count": 97,
   "metadata": {},
   "outputs": [
    {
     "data": {
      "text/html": [
       "<div>\n",
       "<style scoped>\n",
       "    .dataframe tbody tr th:only-of-type {\n",
       "        vertical-align: middle;\n",
       "    }\n",
       "\n",
       "    .dataframe tbody tr th {\n",
       "        vertical-align: top;\n",
       "    }\n",
       "\n",
       "    .dataframe thead th {\n",
       "        text-align: right;\n",
       "    }\n",
       "</style>\n",
       "<table border=\"1\" class=\"dataframe\">\n",
       "  <thead>\n",
       "    <tr style=\"text-align: right;\">\n",
       "      <th></th>\n",
       "      <th>id</th>\n",
       "      <th>sentence</th>\n",
       "      <th>subject_entity</th>\n",
       "      <th>object_entity</th>\n",
       "      <th>label</th>\n",
       "      <th>source</th>\n",
       "    </tr>\n",
       "  </thead>\n",
       "  <tbody>\n",
       "    <tr>\n",
       "      <th>0</th>\n",
       "      <td>0</td>\n",
       "      <td>〈Something〉는 조지 해리슨이 쓰고 비틀즈가 1969년 앨범 《Abbey R...</td>\n",
       "      <td>{'word': '비틀즈', 'start_idx': 24, 'end_idx': 26...</td>\n",
       "      <td>{'word': '조지 해리슨', 'start_idx': 13, 'end_idx':...</td>\n",
       "      <td>no_relation</td>\n",
       "      <td>wikipedia</td>\n",
       "    </tr>\n",
       "    <tr>\n",
       "      <th>1</th>\n",
       "      <td>1</td>\n",
       "      <td>호남이 기반인 바른미래당·대안신당·민주평화당이 우여곡절 끝에 합당해 민생당(가칭)으...</td>\n",
       "      <td>{'word': '민주평화당', 'start_idx': 19, 'end_idx': ...</td>\n",
       "      <td>{'word': '대안신당', 'start_idx': 14, 'end_idx': 1...</td>\n",
       "      <td>no_relation</td>\n",
       "      <td>wikitree</td>\n",
       "    </tr>\n",
       "    <tr>\n",
       "      <th>2</th>\n",
       "      <td>2</td>\n",
       "      <td>K리그2에서 성적 1위를 달리고 있는 광주FC는 지난 26일 한국프로축구연맹으로부터...</td>\n",
       "      <td>{'word': '광주FC', 'start_idx': 21, 'end_idx': 2...</td>\n",
       "      <td>{'word': '한국프로축구연맹', 'start_idx': 34, 'end_idx...</td>\n",
       "      <td>org:member_of</td>\n",
       "      <td>wikitree</td>\n",
       "    </tr>\n",
       "    <tr>\n",
       "      <th>3</th>\n",
       "      <td>3</td>\n",
       "      <td>균일가 생활용품점 (주)아성다이소(대표 박정부)는 코로나19 바이러스로 어려움을 겪...</td>\n",
       "      <td>{'word': '아성다이소', 'start_idx': 13, 'end_idx': ...</td>\n",
       "      <td>{'word': '박정부', 'start_idx': 22, 'end_idx': 24...</td>\n",
       "      <td>org:top_members/employees</td>\n",
       "      <td>wikitree</td>\n",
       "    </tr>\n",
       "    <tr>\n",
       "      <th>4</th>\n",
       "      <td>4</td>\n",
       "      <td>1967년 프로 야구 드래프트 1순위로 요미우리 자이언츠에게 입단하면서 등번호는 8...</td>\n",
       "      <td>{'word': '요미우리 자이언츠', 'start_idx': 22, 'end_id...</td>\n",
       "      <td>{'word': '1967', 'start_idx': 0, 'end_idx': 3,...</td>\n",
       "      <td>no_relation</td>\n",
       "      <td>wikipedia</td>\n",
       "    </tr>\n",
       "  </tbody>\n",
       "</table>\n",
       "</div>"
      ],
      "text/plain": [
       "   id                                           sentence   \n",
       "0   0  〈Something〉는 조지 해리슨이 쓰고 비틀즈가 1969년 앨범 《Abbey R...  \\\n",
       "1   1  호남이 기반인 바른미래당·대안신당·민주평화당이 우여곡절 끝에 합당해 민생당(가칭)으...   \n",
       "2   2  K리그2에서 성적 1위를 달리고 있는 광주FC는 지난 26일 한국프로축구연맹으로부터...   \n",
       "3   3  균일가 생활용품점 (주)아성다이소(대표 박정부)는 코로나19 바이러스로 어려움을 겪...   \n",
       "4   4  1967년 프로 야구 드래프트 1순위로 요미우리 자이언츠에게 입단하면서 등번호는 8...   \n",
       "\n",
       "                                      subject_entity   \n",
       "0  {'word': '비틀즈', 'start_idx': 24, 'end_idx': 26...  \\\n",
       "1  {'word': '민주평화당', 'start_idx': 19, 'end_idx': ...   \n",
       "2  {'word': '광주FC', 'start_idx': 21, 'end_idx': 2...   \n",
       "3  {'word': '아성다이소', 'start_idx': 13, 'end_idx': ...   \n",
       "4  {'word': '요미우리 자이언츠', 'start_idx': 22, 'end_id...   \n",
       "\n",
       "                                       object_entity   \n",
       "0  {'word': '조지 해리슨', 'start_idx': 13, 'end_idx':...  \\\n",
       "1  {'word': '대안신당', 'start_idx': 14, 'end_idx': 1...   \n",
       "2  {'word': '한국프로축구연맹', 'start_idx': 34, 'end_idx...   \n",
       "3  {'word': '박정부', 'start_idx': 22, 'end_idx': 24...   \n",
       "4  {'word': '1967', 'start_idx': 0, 'end_idx': 3,...   \n",
       "\n",
       "                       label     source  \n",
       "0                no_relation  wikipedia  \n",
       "1                no_relation   wikitree  \n",
       "2              org:member_of   wikitree  \n",
       "3  org:top_members/employees   wikitree  \n",
       "4                no_relation  wikipedia  "
      ]
     },
     "execution_count": 97,
     "metadata": {},
     "output_type": "execute_result"
    }
   ],
   "source": [
    "# 데이터 불러오기\n",
    "dataset = pd.read_csv('./../dataset/train/train.csv')\n",
    "dataset.head()"
   ]
  },
  {
   "cell_type": "code",
   "execution_count": 98,
   "metadata": {},
   "outputs": [],
   "source": [
    "# 원본 데이터셋에서 subject_entity와 object_entity를 컴파일\n",
    "# entity(word, start index, end index, type)을 따로 가져와 dictionary 형태로 저장\n",
    "def get_entity(entity_str):\n",
    "    entity_str = re.sub('[\\{\\}:]','',entity_str)\n",
    "\n",
    "    # get word entity \n",
    "    word = re.match('\\'word\\' .+, \\'start_idx\\'', entity_str)\n",
    "    word = word.group()\n",
    "    word = re.sub('\\'word\\' ', '', word)\n",
    "    word = re.sub(', \\'start_idx\\'', '', word)\n",
    "    word = word[1:-1]\n",
    "\n",
    "    # get start_idx, end_idx, type entity list\n",
    "    entity_str = re.sub('\\'word\\' ','', entity_str)\n",
    "    entity_str = re.sub('\\'start_idx\\' ','', entity_str)\n",
    "    entity_str = re.sub('\\'end_idx\\' ','', entity_str)\n",
    "    entity_str = re.sub('\\'type\\' ','', entity_str)\n",
    "\n",
    "    entity_list = entity_str.split(', ')\n",
    "    entity_list = entity_list[-3:]\n",
    "    entity_list[0] = int(entity_list[0])\n",
    "    entity_list[1] = int(entity_list[1])\n",
    "    entity_list[2] = entity_list[2][1:-1]\n",
    "\n",
    "    # final entity list\n",
    "    entity_list.insert(0, word)\n",
    "\n",
    "    # make values dictionary\n",
    "    data_dict = dict()\n",
    "    entities = ['word', 'start_idx', 'end_idx', 'type']\n",
    "    for i in range(4):\n",
    "        data_dict[entities[i]] = entity_list[i]\n",
    "    return data_dict\n",
    "\n",
    "# 위의 get_entity 함수 대체.. eval 함수로 간단하게 구현할 수 있었다..🥲\n",
    "def eval_entity(entity_str):\n",
    "    entity_dict = eval(entity_str)\n",
    "    return entity_dict\n",
    "\n",
    "# get_entity 함수를 활용하여 데이터셋의 subject_entity, object_entity의 정보를 dictionary 형태로 치환\n",
    "def make_entity_dict(df, target_col=['subject_entity', 'object_entity']):\n",
    "    for col in target_col:\n",
    "        entities = df[col]\n",
    "        ent_dicts = []\n",
    "        for ent in entities:\n",
    "            ent_dicts.append(eval_entity(ent))\n",
    "        df[col] = ent_dicts"
   ]
  },
  {
   "cell_type": "code",
   "execution_count": 99,
   "metadata": {},
   "outputs": [],
   "source": [
    "make_entity_dict(dataset)"
   ]
  },
  {
   "cell_type": "code",
   "execution_count": 100,
   "metadata": {},
   "outputs": [
    {
     "data": {
      "text/html": [
       "<div>\n",
       "<style scoped>\n",
       "    .dataframe tbody tr th:only-of-type {\n",
       "        vertical-align: middle;\n",
       "    }\n",
       "\n",
       "    .dataframe tbody tr th {\n",
       "        vertical-align: top;\n",
       "    }\n",
       "\n",
       "    .dataframe thead th {\n",
       "        text-align: right;\n",
       "    }\n",
       "</style>\n",
       "<table border=\"1\" class=\"dataframe\">\n",
       "  <thead>\n",
       "    <tr style=\"text-align: right;\">\n",
       "      <th></th>\n",
       "      <th>id</th>\n",
       "      <th>sentence</th>\n",
       "      <th>subject_entity</th>\n",
       "      <th>object_entity</th>\n",
       "      <th>label</th>\n",
       "      <th>source</th>\n",
       "    </tr>\n",
       "  </thead>\n",
       "  <tbody>\n",
       "    <tr>\n",
       "      <th>0</th>\n",
       "      <td>0</td>\n",
       "      <td>〈Something〉는 조지 해리슨이 쓰고 비틀즈가 1969년 앨범 《Abbey R...</td>\n",
       "      <td>{'word': '비틀즈', 'start_idx': 24, 'end_idx': 26...</td>\n",
       "      <td>{'word': '조지 해리슨', 'start_idx': 13, 'end_idx':...</td>\n",
       "      <td>no_relation</td>\n",
       "      <td>wikipedia</td>\n",
       "    </tr>\n",
       "    <tr>\n",
       "      <th>1</th>\n",
       "      <td>1</td>\n",
       "      <td>호남이 기반인 바른미래당·대안신당·민주평화당이 우여곡절 끝에 합당해 민생당(가칭)으...</td>\n",
       "      <td>{'word': '민주평화당', 'start_idx': 19, 'end_idx': ...</td>\n",
       "      <td>{'word': '대안신당', 'start_idx': 14, 'end_idx': 1...</td>\n",
       "      <td>no_relation</td>\n",
       "      <td>wikitree</td>\n",
       "    </tr>\n",
       "    <tr>\n",
       "      <th>2</th>\n",
       "      <td>2</td>\n",
       "      <td>K리그2에서 성적 1위를 달리고 있는 광주FC는 지난 26일 한국프로축구연맹으로부터...</td>\n",
       "      <td>{'word': '광주FC', 'start_idx': 21, 'end_idx': 2...</td>\n",
       "      <td>{'word': '한국프로축구연맹', 'start_idx': 34, 'end_idx...</td>\n",
       "      <td>org:member_of</td>\n",
       "      <td>wikitree</td>\n",
       "    </tr>\n",
       "    <tr>\n",
       "      <th>3</th>\n",
       "      <td>3</td>\n",
       "      <td>균일가 생활용품점 (주)아성다이소(대표 박정부)는 코로나19 바이러스로 어려움을 겪...</td>\n",
       "      <td>{'word': '아성다이소', 'start_idx': 13, 'end_idx': ...</td>\n",
       "      <td>{'word': '박정부', 'start_idx': 22, 'end_idx': 24...</td>\n",
       "      <td>org:top_members/employees</td>\n",
       "      <td>wikitree</td>\n",
       "    </tr>\n",
       "    <tr>\n",
       "      <th>4</th>\n",
       "      <td>4</td>\n",
       "      <td>1967년 프로 야구 드래프트 1순위로 요미우리 자이언츠에게 입단하면서 등번호는 8...</td>\n",
       "      <td>{'word': '요미우리 자이언츠', 'start_idx': 22, 'end_id...</td>\n",
       "      <td>{'word': '1967', 'start_idx': 0, 'end_idx': 3,...</td>\n",
       "      <td>no_relation</td>\n",
       "      <td>wikipedia</td>\n",
       "    </tr>\n",
       "  </tbody>\n",
       "</table>\n",
       "</div>"
      ],
      "text/plain": [
       "   id                                           sentence   \n",
       "0   0  〈Something〉는 조지 해리슨이 쓰고 비틀즈가 1969년 앨범 《Abbey R...  \\\n",
       "1   1  호남이 기반인 바른미래당·대안신당·민주평화당이 우여곡절 끝에 합당해 민생당(가칭)으...   \n",
       "2   2  K리그2에서 성적 1위를 달리고 있는 광주FC는 지난 26일 한국프로축구연맹으로부터...   \n",
       "3   3  균일가 생활용품점 (주)아성다이소(대표 박정부)는 코로나19 바이러스로 어려움을 겪...   \n",
       "4   4  1967년 프로 야구 드래프트 1순위로 요미우리 자이언츠에게 입단하면서 등번호는 8...   \n",
       "\n",
       "                                      subject_entity   \n",
       "0  {'word': '비틀즈', 'start_idx': 24, 'end_idx': 26...  \\\n",
       "1  {'word': '민주평화당', 'start_idx': 19, 'end_idx': ...   \n",
       "2  {'word': '광주FC', 'start_idx': 21, 'end_idx': 2...   \n",
       "3  {'word': '아성다이소', 'start_idx': 13, 'end_idx': ...   \n",
       "4  {'word': '요미우리 자이언츠', 'start_idx': 22, 'end_id...   \n",
       "\n",
       "                                       object_entity   \n",
       "0  {'word': '조지 해리슨', 'start_idx': 13, 'end_idx':...  \\\n",
       "1  {'word': '대안신당', 'start_idx': 14, 'end_idx': 1...   \n",
       "2  {'word': '한국프로축구연맹', 'start_idx': 34, 'end_idx...   \n",
       "3  {'word': '박정부', 'start_idx': 22, 'end_idx': 24...   \n",
       "4  {'word': '1967', 'start_idx': 0, 'end_idx': 3,...   \n",
       "\n",
       "                       label     source  \n",
       "0                no_relation  wikipedia  \n",
       "1                no_relation   wikitree  \n",
       "2              org:member_of   wikitree  \n",
       "3  org:top_members/employees   wikitree  \n",
       "4                no_relation  wikipedia  "
      ]
     },
     "execution_count": 100,
     "metadata": {},
     "output_type": "execute_result"
    }
   ],
   "source": [
    "dataset.head()"
   ]
  },
  {
   "attachments": {},
   "cell_type": "markdown",
   "metadata": {},
   "source": [
    "## subject_entity\n",
    "- subject_entity를 df 형태로 불러와 특성 분석"
   ]
  },
  {
   "cell_type": "code",
   "execution_count": 101,
   "metadata": {},
   "outputs": [],
   "source": [
    "subjects = dataset.subject_entity\n",
    "sub_df = []\n",
    "for subject in subjects:\n",
    "    sub_df.append(list(subject.values()))\n",
    "sub_df = pd.DataFrame(sub_df, columns=list(subjects[0].keys()))\n",
    "sub_df\n",
    "sub_df.to_csv('./subject_entity.csv',index=False)"
   ]
  },
  {
   "cell_type": "code",
   "execution_count": 102,
   "metadata": {},
   "outputs": [
    {
     "data": {
      "image/png": "[encoded data removed]",
      "text/plain": [
       "<Figure size 640x480 with 1 Axes>"
      ]
     },
     "metadata": {},
     "output_type": "display_data"
    }
   ],
   "source": [
    "start_sub = list(sub_df.start_idx)\n",
    "start_sub\n",
    "plt.hist(start_sub, bins=50, label='bins=50')\n",
    "plt.legend()\n",
    "plt.show()"
   ]
  },
  {
   "cell_type": "code",
   "execution_count": 103,
   "metadata": {},
   "outputs": [
    {
     "name": "stdout",
     "output_type": "stream",
     "text": [
      "290\n",
      "84\n",
      "32\n",
      "6\n",
      "max start index value in subject :  338\n"
     ]
    }
   ],
   "source": [
    "print(len(sub_df[sub_df['start_idx'] > 150]))\n",
    "print(len(sub_df[sub_df['start_idx'] > 200]))\n",
    "print(len(sub_df[sub_df['start_idx'] > 250]))\n",
    "print(len(sub_df[sub_df['start_idx'] > 300]))\n",
    "print('max start index value in subject : ', max(sub_df['start_idx']))"
   ]
  },
  {
   "attachments": {},
   "cell_type": "markdown",
   "metadata": {},
   "source": [
    "## object_entity\n",
    "- object_entity를 df 형태로 불러와 특성 분석"
   ]
  },
  {
   "cell_type": "code",
   "execution_count": 104,
   "metadata": {},
   "outputs": [],
   "source": [
    "objects = dataset.object_entity\n",
    "ob_df = []\n",
    "\n",
    "for object in objects:\n",
    "    if len(object.values()) != 4: print(i)\n",
    "    ob_df.append(list(object.values()))#[:4])\n",
    "ob_df = pd.DataFrame(ob_df, columns=list(objects[0].keys()))\n",
    "ob_df\n",
    "ob_df.to_csv('./object_entity.csv',index=False)"
   ]
  },
  {
   "cell_type": "code",
   "execution_count": 105,
   "metadata": {},
   "outputs": [
    {
     "data": {
      "image/png": "[encoded data removed]",
      "text/plain": [
       "<Figure size 640x480 with 1 Axes>"
      ]
     },
     "metadata": {},
     "output_type": "display_data"
    }
   ],
   "source": [
    "start_ob = list(ob_df.start_idx)\n",
    "start_ob\n",
    "# plt.hist(start_ob[:30], label='bins=10')\n",
    "plt.hist(start_ob, bins=50, label='bins=50')\n",
    "plt.legend()\n",
    "plt.show()"
   ]
  },
  {
   "cell_type": "code",
   "execution_count": 106,
   "metadata": {},
   "outputs": [
    {
     "name": "stdout",
     "output_type": "stream",
     "text": [
      "304\n",
      "90\n",
      "19\n",
      "4\n",
      "max start index value in object :  391\n"
     ]
    }
   ],
   "source": [
    "print(len(ob_df[ob_df['start_idx'] > 150]))\n",
    "print(len(ob_df[ob_df['start_idx'] > 200]))\n",
    "print(len(ob_df[ob_df['start_idx'] > 250]))\n",
    "print(len(ob_df[ob_df['start_idx'] > 300]))\n",
    "print('max start index value in object : ', max(ob_df['start_idx']))"
   ]
  },
  {
   "attachments": {},
   "cell_type": "markdown",
   "metadata": {},
   "source": [
    "#### 두개 동시에 표현"
   ]
  },
  {
   "cell_type": "code",
   "execution_count": 107,
   "metadata": {},
   "outputs": [
    {
     "data": {
      "image/png": "[encoded data removed]",
      "text/plain": [
       "<Figure size 640x480 with 1 Axes>"
      ]
     },
     "metadata": {},
     "output_type": "display_data"
    }
   ],
   "source": [
    "plt.hist(start_sub, bins=50, alpha=0.5, label='subject')\n",
    "plt.hist(start_ob, bins=50, alpha=0.5, label='object')\n",
    "plt.legend(loc='upper right')\n",
    "plt.show()"
   ]
  },
  {
   "cell_type": "code",
   "execution_count": 108,
   "metadata": {},
   "outputs": [
    {
     "data": {
      "image/png": "[encoded data removed]",
      "text/plain": [
       "<Figure size 640x480 with 1 Axes>"
      ]
     },
     "metadata": {},
     "output_type": "display_data"
    }
   ],
   "source": [
    "# 임의로 x 축 범위 변경\n",
    "plt.hist(start_sub, bins=100, alpha=0.5, label='subject')\n",
    "plt.hist(start_ob, bins=100, alpha=0.5, label='object')\n",
    "plt.legend(loc='upper right')\n",
    "plt.xlim(0,150)\n",
    "plt.show()"
   ]
  },
  {
   "attachments": {},
   "cell_type": "markdown",
   "metadata": {},
   "source": [
    "### 💡 결론\n",
    "- 타겟으로 봐야할 subject, object 데이터는 대체로 길이 150이내에 등장\n",
    "- tokenize 해서 몇번째 단어인지로 확인해볼 필요 있음 (-> 추후 진행 예정)"
   ]
  },
  {
   "attachments": {},
   "cell_type": "markdown",
   "metadata": {},
   "source": [
    "## Subject, Object Type"
   ]
  },
  {
   "cell_type": "code",
   "execution_count": 131,
   "metadata": {},
   "outputs": [
    {
     "data": {
      "text/plain": [
       "['PER', 'DAT', 'ORG', 'POH', 'NOH', 'LOC']"
      ]
     },
     "execution_count": 131,
     "metadata": {},
     "output_type": "execute_result"
    }
   ],
   "source": [
    "type_list = list(sub_df.type.unique())\n",
    "type_list.extend(list(ob_df.type.unique()))\n",
    "type_list = list(set(type_list))\n",
    "type_list"
   ]
  },
  {
   "cell_type": "code",
   "execution_count": 135,
   "metadata": {},
   "outputs": [
    {
     "data": {
      "image/png": "[encoded data removed]",
      "text/plain": [
       "<Figure size 640x480 with 1 Axes>"
      ]
     },
     "metadata": {},
     "output_type": "display_data"
    }
   ],
   "source": [
    "plt.hist(sub_df.type)\n",
    "plt.xticks = type_list\n",
    "plt.show()"
   ]
  },
  {
   "cell_type": "code",
   "execution_count": 134,
   "metadata": {},
   "outputs": [
    {
     "data": {
      "image/png": "[encoded data removed]",
      "text/plain": [
       "<Figure size 640x480 with 1 Axes>"
      ]
     },
     "metadata": {},
     "output_type": "display_data"
    }
   ],
   "source": [
    "plt.hist(ob_df.type)\n",
    "plt.show()"
   ]
  },
  {
   "attachments": {},
   "cell_type": "markdown",
   "metadata": {},
   "source": [
    "### 💡 참고\n",
    "https://ratsgo.github.io/nlpbook/docs/ner/overview/\n",
    "- PER : 인물 \n",
    "- DAT : 날짜\n",
    "- ORG : 기관 및 단체\n",
    "- POH : 기타\n",
    "- NOH : 기타 수량\n",
    "- LOC : 장소 및 위치"
   ]
  },
  {
   "attachments": {},
   "cell_type": "markdown",
   "metadata": {},
   "source": [
    "## start_sub - start_ob\n",
    "- subject와 object의 start index의 차를 구하여 분석\n",
    "- subject와 object word가 문장에서 어디에 위치하였는지, 거리가 어느정도인지 분석할 수 있다."
   ]
  },
  {
   "cell_type": "code",
   "execution_count": 109,
   "metadata": {},
   "outputs": [
    {
     "data": {
      "text/html": [
       "<div>\n",
       "<style scoped>\n",
       "    .dataframe tbody tr th:only-of-type {\n",
       "        vertical-align: middle;\n",
       "    }\n",
       "\n",
       "    .dataframe tbody tr th {\n",
       "        vertical-align: top;\n",
       "    }\n",
       "\n",
       "    .dataframe thead th {\n",
       "        text-align: right;\n",
       "    }\n",
       "</style>\n",
       "<table border=\"1\" class=\"dataframe\">\n",
       "  <thead>\n",
       "    <tr style=\"text-align: right;\">\n",
       "      <th></th>\n",
       "      <th>sub_start</th>\n",
       "      <th>ob_start</th>\n",
       "      <th>diff</th>\n",
       "    </tr>\n",
       "  </thead>\n",
       "  <tbody>\n",
       "    <tr>\n",
       "      <th>0</th>\n",
       "      <td>24</td>\n",
       "      <td>13</td>\n",
       "      <td>-11</td>\n",
       "    </tr>\n",
       "    <tr>\n",
       "      <th>1</th>\n",
       "      <td>19</td>\n",
       "      <td>14</td>\n",
       "      <td>-5</td>\n",
       "    </tr>\n",
       "    <tr>\n",
       "      <th>2</th>\n",
       "      <td>21</td>\n",
       "      <td>34</td>\n",
       "      <td>13</td>\n",
       "    </tr>\n",
       "    <tr>\n",
       "      <th>3</th>\n",
       "      <td>13</td>\n",
       "      <td>22</td>\n",
       "      <td>9</td>\n",
       "    </tr>\n",
       "    <tr>\n",
       "      <th>4</th>\n",
       "      <td>22</td>\n",
       "      <td>0</td>\n",
       "      <td>-22</td>\n",
       "    </tr>\n",
       "    <tr>\n",
       "      <th>...</th>\n",
       "      <td>...</td>\n",
       "      <td>...</td>\n",
       "      <td>...</td>\n",
       "    </tr>\n",
       "    <tr>\n",
       "      <th>32465</th>\n",
       "      <td>93</td>\n",
       "      <td>100</td>\n",
       "      <td>7</td>\n",
       "    </tr>\n",
       "    <tr>\n",
       "      <th>32466</th>\n",
       "      <td>7</td>\n",
       "      <td>17</td>\n",
       "      <td>10</td>\n",
       "    </tr>\n",
       "    <tr>\n",
       "      <th>32467</th>\n",
       "      <td>0</td>\n",
       "      <td>7</td>\n",
       "      <td>7</td>\n",
       "    </tr>\n",
       "    <tr>\n",
       "      <th>32468</th>\n",
       "      <td>6</td>\n",
       "      <td>21</td>\n",
       "      <td>15</td>\n",
       "    </tr>\n",
       "    <tr>\n",
       "      <th>32469</th>\n",
       "      <td>0</td>\n",
       "      <td>7</td>\n",
       "      <td>7</td>\n",
       "    </tr>\n",
       "  </tbody>\n",
       "</table>\n",
       "<p>32470 rows × 3 columns</p>\n",
       "</div>"
      ],
      "text/plain": [
       "       sub_start  ob_start  diff\n",
       "0             24        13   -11\n",
       "1             19        14    -5\n",
       "2             21        34    13\n",
       "3             13        22     9\n",
       "4             22         0   -22\n",
       "...          ...       ...   ...\n",
       "32465         93       100     7\n",
       "32466          7        17    10\n",
       "32467          0         7     7\n",
       "32468          6        21    15\n",
       "32469          0         7     7\n",
       "\n",
       "[32470 rows x 3 columns]"
      ]
     },
     "execution_count": 109,
     "metadata": {},
     "output_type": "execute_result"
    }
   ],
   "source": [
    "start_diff = pd.concat([sub_df.start_idx, ob_df.start_idx], axis=1)\n",
    "start_diff.columns = ['sub_start', 'ob_start']\n",
    "start_diff['diff'] = ob_df.start_idx - sub_df.start_idx\n",
    "start_diff"
   ]
  },
  {
   "cell_type": "code",
   "execution_count": 110,
   "metadata": {},
   "outputs": [
    {
     "data": {
      "image/png": "[encoded data removed]",
      "text/plain": [
       "<Figure size 640x480 with 1 Axes>"
      ]
     },
     "metadata": {},
     "output_type": "display_data"
    }
   ],
   "source": [
    "diff = list(start_diff['diff'])\n",
    "\n",
    "plt.hist(diff, bins=50, label='bins=50')\n",
    "plt.legend()\n",
    "plt.show()"
   ]
  },
  {
   "cell_type": "code",
   "execution_count": 111,
   "metadata": {},
   "outputs": [
    {
     "data": {
      "image/png": "[encoded data removed]",
      "text/plain": [
       "<Figure size 640x480 with 1 Axes>"
      ]
     },
     "metadata": {},
     "output_type": "display_data"
    }
   ],
   "source": [
    "plt.hist(diff, bins=50, label='bins=50')\n",
    "plt.xlim(-100, 100)\n",
    "plt.legend()\n",
    "plt.show()"
   ]
  },
  {
   "cell_type": "code",
   "execution_count": 114,
   "metadata": {},
   "outputs": [
    {
     "name": "stdout",
     "output_type": "stream",
     "text": [
      "544\n",
      "22\n",
      "min index diff :  3\n",
      "max index diff :  295\n",
      "mean index diff :  1.714197720973206\n",
      "subject 더 앞 :  17721 object 더 앞 :  14749\n"
     ]
    }
   ],
   "source": [
    "print(len(start_diff[(start_diff['diff'] > 100) | (start_diff['diff'] < -100)]))\n",
    "print(len(start_diff[(start_diff['diff'] > 200) | (start_diff['diff'] < -200)]))\n",
    "print('min index diff : ', min(abs(start_diff['diff']))) # 3 : 적어도 같은 단어를 sub, ob로 활용하는 케이스는 없음을 확인 가능\n",
    "print('max index diff : ', max(abs(start_diff['diff']))) # 295\n",
    "print('mean index diff : ', np.mean(start_diff['diff'])) \n",
    "print('subject 더 앞 : ', len(start_diff[(start_diff['diff'] > 0)]), 'object 더 앞 : ', len(start_diff[(start_diff['diff'] < 0)])) \n"
   ]
  },
  {
   "cell_type": "code",
   "execution_count": null,
   "metadata": {},
   "outputs": [],
   "source": [
    "plt.scatter(sub_df.start_idx-ob_df.start_idx, sub_df.end_idx-ob_df.end_idx, c =\"blue\")\n",
    "plt.show()"
   ]
  },
  {
   "attachments": {},
   "cell_type": "markdown",
   "metadata": {},
   "source": [
    "### 💡 결론\n",
    "- 문장 내에서 subject가 object보다 항상 앞에존재하는 것은 아님\n",
    "- 하지만 subject가 문장의 앞에 있는 경우가 더 많음 (하지만 큰 차이는 없음)\n",
    "- 단어 사이의 거리는 최대 295. 사실상 150 이상의 거리 데이터는 많지 않음"
   ]
  },
  {
   "attachments": {},
   "cell_type": "markdown",
   "metadata": {},
   "source": [
    "## Token Check"
   ]
  },
  {
   "cell_type": "code",
   "execution_count": 19,
   "metadata": {},
   "outputs": [],
   "source": [
    "from transformers import AutoTokenizer\n",
    "\n",
    "tokenizer = AutoTokenizer.from_pretrained(\n",
    "    'klue/bert-base', model_max_length=200\n",
    ")"
   ]
  },
  {
   "cell_type": "code",
   "execution_count": 64,
   "metadata": {},
   "outputs": [
    {
     "data": {
      "text/html": [
       "<div>\n",
       "<style scoped>\n",
       "    .dataframe tbody tr th:only-of-type {\n",
       "        vertical-align: middle;\n",
       "    }\n",
       "\n",
       "    .dataframe tbody tr th {\n",
       "        vertical-align: top;\n",
       "    }\n",
       "\n",
       "    .dataframe thead th {\n",
       "        text-align: right;\n",
       "    }\n",
       "</style>\n",
       "<table border=\"1\" class=\"dataframe\">\n",
       "  <thead>\n",
       "    <tr style=\"text-align: right;\">\n",
       "      <th></th>\n",
       "      <th>sub_word</th>\n",
       "      <th>ob_word</th>\n",
       "    </tr>\n",
       "  </thead>\n",
       "  <tbody>\n",
       "    <tr>\n",
       "      <th>0</th>\n",
       "      <td>비틀즈</td>\n",
       "      <td>조지 해리슨</td>\n",
       "    </tr>\n",
       "    <tr>\n",
       "      <th>1</th>\n",
       "      <td>민주평화당</td>\n",
       "      <td>대안신당</td>\n",
       "    </tr>\n",
       "    <tr>\n",
       "      <th>2</th>\n",
       "      <td>광주FC</td>\n",
       "      <td>한국프로축구연맹</td>\n",
       "    </tr>\n",
       "    <tr>\n",
       "      <th>3</th>\n",
       "      <td>아성다이소</td>\n",
       "      <td>박정부</td>\n",
       "    </tr>\n",
       "    <tr>\n",
       "      <th>4</th>\n",
       "      <td>요미우리 자이언츠</td>\n",
       "      <td>1967</td>\n",
       "    </tr>\n",
       "  </tbody>\n",
       "</table>\n",
       "</div>"
      ],
      "text/plain": [
       "    sub_word   ob_word\n",
       "0        비틀즈    조지 해리슨\n",
       "1      민주평화당      대안신당\n",
       "2       광주FC  한국프로축구연맹\n",
       "3      아성다이소       박정부\n",
       "4  요미우리 자이언츠      1967"
      ]
     },
     "execution_count": 64,
     "metadata": {},
     "output_type": "execute_result"
    }
   ],
   "source": [
    "words_df = pd.concat([sub_df.word, ob_df.word], axis=1)\n",
    "words_df.columns = ['sub_word', 'ob_word']\n",
    "words_df.head()"
   ]
  },
  {
   "cell_type": "code",
   "execution_count": 65,
   "metadata": {},
   "outputs": [],
   "source": [
    "def get_token_id(word_list):\n",
    "    token_ids = []\n",
    "    for word in word_list:\n",
    "        tokenized = tokenizer(word)\n",
    "        ids = tokenized['input_ids'][1:-1]\n",
    "        token_ids.append(tokenizer.convert_ids_to_tokens(ids))\n",
    "    return token_ids"
   ]
  },
  {
   "cell_type": "code",
   "execution_count": 81,
   "metadata": {},
   "outputs": [
    {
     "data": {
      "text/html": [
       "<div>\n",
       "<style scoped>\n",
       "    .dataframe tbody tr th:only-of-type {\n",
       "        vertical-align: middle;\n",
       "    }\n",
       "\n",
       "    .dataframe tbody tr th {\n",
       "        vertical-align: top;\n",
       "    }\n",
       "\n",
       "    .dataframe thead th {\n",
       "        text-align: right;\n",
       "    }\n",
       "</style>\n",
       "<table border=\"1\" class=\"dataframe\">\n",
       "  <thead>\n",
       "    <tr style=\"text-align: right;\">\n",
       "      <th></th>\n",
       "      <th>sub_word</th>\n",
       "      <th>sub_token</th>\n",
       "      <th>ob_word</th>\n",
       "      <th>ob_token</th>\n",
       "    </tr>\n",
       "  </thead>\n",
       "  <tbody>\n",
       "    <tr>\n",
       "      <th>0</th>\n",
       "      <td>비틀즈</td>\n",
       "      <td>[비틀즈]</td>\n",
       "      <td>조지 해리슨</td>\n",
       "      <td>[조지, 해리, ##슨]</td>\n",
       "    </tr>\n",
       "    <tr>\n",
       "      <th>1</th>\n",
       "      <td>민주평화당</td>\n",
       "      <td>[민주, ##평, ##화, ##당]</td>\n",
       "      <td>대안신당</td>\n",
       "      <td>[대안, ##신, ##당]</td>\n",
       "    </tr>\n",
       "    <tr>\n",
       "      <th>2</th>\n",
       "      <td>광주FC</td>\n",
       "      <td>[광주, ##FC]</td>\n",
       "      <td>한국프로축구연맹</td>\n",
       "      <td>[한국, ##프로, ##축구연맹]</td>\n",
       "    </tr>\n",
       "    <tr>\n",
       "      <th>3</th>\n",
       "      <td>아성다이소</td>\n",
       "      <td>[아성, ##다이, ##소]</td>\n",
       "      <td>박정부</td>\n",
       "      <td>[박정, ##부]</td>\n",
       "    </tr>\n",
       "    <tr>\n",
       "      <th>4</th>\n",
       "      <td>요미우리 자이언츠</td>\n",
       "      <td>[요미우리, 자이언츠]</td>\n",
       "      <td>1967</td>\n",
       "      <td>[1967]</td>\n",
       "    </tr>\n",
       "    <tr>\n",
       "      <th>...</th>\n",
       "      <td>...</td>\n",
       "      <td>...</td>\n",
       "      <td>...</td>\n",
       "      <td>...</td>\n",
       "    </tr>\n",
       "    <tr>\n",
       "      <th>32465</th>\n",
       "      <td>유기준</td>\n",
       "      <td>[유기, ##준]</td>\n",
       "      <td>부산 서구·동구</td>\n",
       "      <td>[부산, 서구, ·, 동구]</td>\n",
       "    </tr>\n",
       "    <tr>\n",
       "      <th>32466</th>\n",
       "      <td>최시형</td>\n",
       "      <td>[최시, ##형]</td>\n",
       "      <td>손병희</td>\n",
       "      <td>[손, ##병, ##희]</td>\n",
       "    </tr>\n",
       "    <tr>\n",
       "      <th>32467</th>\n",
       "      <td>완도군</td>\n",
       "      <td>[완도, ##군]</td>\n",
       "      <td>신우철</td>\n",
       "      <td>[신우, ##철]</td>\n",
       "    </tr>\n",
       "    <tr>\n",
       "      <th>32468</th>\n",
       "      <td>JTBC</td>\n",
       "      <td>[JTBC]</td>\n",
       "      <td>중앙홀딩스</td>\n",
       "      <td>[중앙, ##홀, ##딩, ##스]</td>\n",
       "    </tr>\n",
       "    <tr>\n",
       "      <th>32469</th>\n",
       "      <td>화순군</td>\n",
       "      <td>[화순, ##군]</td>\n",
       "      <td>구충곤</td>\n",
       "      <td>[구, ##충, ##곤]</td>\n",
       "    </tr>\n",
       "  </tbody>\n",
       "</table>\n",
       "<p>32470 rows × 4 columns</p>\n",
       "</div>"
      ],
      "text/plain": [
       "        sub_word            sub_token   ob_word             ob_token\n",
       "0            비틀즈                [비틀즈]    조지 해리슨        [조지, 해리, ##슨]\n",
       "1          민주평화당  [민주, ##평, ##화, ##당]      대안신당       [대안, ##신, ##당]\n",
       "2           광주FC           [광주, ##FC]  한국프로축구연맹   [한국, ##프로, ##축구연맹]\n",
       "3          아성다이소      [아성, ##다이, ##소]       박정부            [박정, ##부]\n",
       "4      요미우리 자이언츠         [요미우리, 자이언츠]      1967               [1967]\n",
       "...          ...                  ...       ...                  ...\n",
       "32465        유기준            [유기, ##준]  부산 서구·동구      [부산, 서구, ·, 동구]\n",
       "32466        최시형            [최시, ##형]       손병희        [손, ##병, ##희]\n",
       "32467        완도군            [완도, ##군]       신우철            [신우, ##철]\n",
       "32468       JTBC               [JTBC]     중앙홀딩스  [중앙, ##홀, ##딩, ##스]\n",
       "32469        화순군            [화순, ##군]       구충곤        [구, ##충, ##곤]\n",
       "\n",
       "[32470 rows x 4 columns]"
      ]
     },
     "execution_count": 81,
     "metadata": {},
     "output_type": "execute_result"
    }
   ],
   "source": [
    "words_df['sub_token'] = get_token_id(words_df.sub_word)\n",
    "words_df['ob_token'] = get_token_id(words_df.ob_word)\n",
    "words_df = words_df[['sub_word', 'sub_token', 'ob_word', 'ob_token']]\n",
    "words_df"
   ]
  },
  {
   "cell_type": "code",
   "execution_count": 118,
   "metadata": {},
   "outputs": [
    {
     "name": "stdout",
     "output_type": "stream",
     "text": [
      "21 스티브 바라캇 ['스티브', '[UNK]']\n",
      "311 카게야마 슌 ['카', '##게', '##야마', '[UNK]']\n",
      "358 리셴녠 ['[UNK]']\n",
      "480 바즈겐 사르키샨 ['바', '##즈', '##겐', '[UNK]']\n",
      "501 데이비드 흄 ['데이비드', '[UNK]']\n",
      "524 마리오 켐페스 ['마리오', '[UNK]']\n",
      "591 쟝쩐위 ['[UNK]']\n",
      "626 넋업샨 ['[UNK]']\n",
      "713 킵루츠 ['[UNK]']\n",
      "827 리콴유 ['[UNK]']\n",
      "841 루디 푈러 ['루', '##디', '[UNK]']\n",
      "1293 헤르만 뮐러 ['헤르', '##만', '[UNK]']\n",
      "1321 홋카이도 ['[UNK]']\n",
      "1360 미겔 후안 세바스티안 피녜라 에체니케 ['미', '##겔', '후안', '세', '##바스', '##티', '##안', '[UNK]', '에', '##체', '##니', '##케']\n",
      "1414 MŠK 질리나 ['[UNK]', '질리', '##나']\n",
      "1428 랴오닝 훙윈 ['랴오', '##닝', '[UNK]']\n",
      "1560 샤를 로뮈알 가르드 ['샤를', '[UNK]', '가르', '##드']\n",
      "2021 넵투누스 ['[UNK]']\n",
      "2536 빌헬름 푸르트벵글러 ['빌', '##헬', '##름', '[UNK]']\n",
      "2553 비욘세 ['[UNK]']\n",
      "2672 리옌훙 ['[UNK]']\n",
      "3091 베렝가리오 1세 ['[UNK]', '1', '##세']\n",
      "3236 RCD 에스파뇰 ['RC', '##D', '[UNK]']\n",
      "3250 얀 루쳄부르스키 ['얀', '[UNK]']\n",
      "3306 자니오 꽈드로스 ['자니', '##오', '[UNK]']\n",
      "3414 키미 래이쾨넨 ['키', '##미', '[UNK]']\n",
      "3482 로퀜스 ['[UNK]']\n",
      "3514 뱌체슬라프 몰로토프 ['[UNK]', '몰', '##로', '##토', '##프']\n",
      "4152 랴오닝 훙윈 ['랴오', '##닝', '[UNK]']\n",
      "4196 리셴녠 ['[UNK]']\n",
      "4402 쥘 아르망 ['[UNK]', '아르', '##망']\n",
      "4490 숀 멘데스 ['[UNK]', '멘', '##데스']\n",
      "4569 페트로 포로셴코 ['페트', '##로', '[UNK]']\n",
      "4597 쥘 아르망 ['[UNK]', '아르', '##망']\n",
      "4605 그린즈버러 스웜 ['그린', '##즈', '##버', '##러', '[UNK]']\n",
      "4780 KRC 헹크 ['KR', '##C', '[UNK]']\n",
      "4813 칸쟈니∞ ['[UNK]']\n",
      "5071 라이언 긱스 ['라이언', '[UNK]']\n",
      "5095 스뱌토폴크 2세 ['[UNK]', '2', '##세']\n",
      "5550 베렝가리오 1세 ['[UNK]', '1', '##세']\n",
      "5577 메이헴 ['[UNK]']\n",
      "5690 시바우라 쥰 ['시바', '##우', '##라', '[UNK]']\n",
      "5835 욘 헤이팅아 ['[UNK]', '헤이', '##팅', '##아']\n",
      "6063 카게야마 슌 ['카', '##게', '##야마', '[UNK]']\n",
      "6335 방얏 반타탄 ['[UNK]', '반', '##타', '##탄']\n",
      "6652 행크 핌 ['행', '##크', '[UNK]']\n",
      "6940 알베르 카뮈 ['알베르', '[UNK]']\n",
      "6955 에스파뇰 ['[UNK]']\n",
      "7204 FC 쾰른 ['FC', '[UNK]']\n",
      "7292 빌헬름 콘라트 뢴트겐 ['빌', '##헬', '##름', '콘', '##라', '##트', '[UNK]']\n",
      "7328 베렝가리오 1세 ['[UNK]', '1', '##세']\n",
      "7419 넋업샨 ['[UNK]']\n",
      "7513 묀헨글라트바흐 ['[UNK]']\n",
      "7544 숀 멘데스 ['[UNK]', '멘', '##데스']\n",
      "7718 크리스 헴스워스 ['크리스', '[UNK]']\n",
      "7835 아뎀 랴이치 ['[UNK]', '랴', '##이치']\n",
      "7923 카게야마 슌 ['카', '##게', '##야마', '[UNK]']\n",
      "7944 토트넘 홋스퍼 ['토트넘', '[UNK]']\n",
      "7967 쟝쩐위 ['[UNK]']\n",
      "8023 블라도 체르노젬스키 ['블라', '##도', '[UNK]']\n",
      "8207 콘스탄틴 로코솝스키 ['콘스탄', '##틴', '[UNK]']\n",
      "8271 페트로 포로셴코 ['페트', '##로', '[UNK]']\n",
      "8356 숀 멘데스 ['[UNK]', '멘', '##데스']\n",
      "8652 숀 멘데스 ['[UNK]', '멘', '##데스']\n",
      "8707 압둘라 귈 ['압둘', '##라', '[UNK]']\n",
      "8741 보이치에흐 슈쳉스니 ['보이', '##치', '##에', '##흐', '[UNK]']\n",
      "8810 아르투르 옝제이치크 ['아르', '##투', '##르', '[UNK]']\n",
      "9346 쥘 베른 ['[UNK]', '베', '##른']\n",
      "9392 마르크비비앙 푀 ['마르크', '##비', '##비', '##앙', '[UNK]']\n",
      "9428 장밥티스트 쥘 베르나도트 ['장', '##밥', '##티스', '##트', '[UNK]', '베르', '##나도', '##트']\n",
      "9546 토트넘 홋스퍼 ['토트넘', '[UNK]']\n",
      "9574 토트넘 홋스퍼 ['토트넘', '[UNK]']\n",
      "9670 세이코 엡손 ['세이', '##코', '[UNK]']\n",
      "9754 쥘 베른 ['[UNK]', '베', '##른']\n",
      "10020 피터 힉스 ['피터', '[UNK]']\n",
      "10427 오틸리아 옝제이차크 ['오', '##틸', '##리아', '[UNK]']\n",
      "10446 다롄 이팡 ['[UNK]', '이', '##팡']\n",
      "10815 군나르 뮈르달 ['군', '##나르', '[UNK]']\n",
      "10824 토마스 뮐러 ['토마스', '[UNK]']\n",
      "10990 숀 라이트필립스 ['[UNK]', '라이트', '##필', '##립', '##스']\n",
      "11207 베렝가리오 1세 ['[UNK]', '1', '##세']\n",
      "11572 토트넘 홋스퍼 ['토트넘', '[UNK]']\n",
      "11580 다롄 이팡 ['[UNK]', '이', '##팡']\n",
      "11656 우젠슝 ['[UNK]']\n",
      "11869 쿠틉 앗딘 마우두드 ['[UNK]', '앗', '##딘', '마', '##우', '##두', '##드']\n",
      "12019 쟝쩐위 ['[UNK]']\n",
      "12418 토트넘 홋스퍼 ['토트넘', '[UNK]']\n",
      "12482 하이츨러 ['[UNK]']\n",
      "12811 위키트리뷴 ['[UNK]']\n",
      "12891 마르코 뵐플리 ['마르코', '[UNK]']\n",
      "12901 야쿱 벡 ['[UNK]', '벡']\n",
      "13109 킵 손 ['[UNK]', '손']\n",
      "13174 젭 부시 ['[UNK]', '부시']\n",
      "13596 아믈리브 막 일둘브 ['[UNK]', '막', '일', '##둘', '##브']\n",
      "13851 카르스텐 하이츨러 ['카르', '##스', '##텐', '[UNK]']\n",
      "14031 리콴유 ['[UNK]']\n",
      "14093 로퀜스 ['[UNK]']\n",
      "14119 우젠슝 ['[UNK]']\n",
      "14185 보루시아 묀헨글라트바흐 ['보루', '##시아', '[UNK]']\n",
      "14364 토트넘 홋스퍼 ['토트넘', '[UNK]']\n",
      "14493 니콜라이 로바쳅스키 ['니콜라', '##이', '[UNK]']\n",
      "14513 페트로 포로셴코 ['페트', '##로', '[UNK]']\n",
      "14827 장밥티스트 쥘 베르나도트 ['장', '##밥', '##티스', '##트', '[UNK]', '베르', '##나도', '##트']\n",
      "14925 호엔촐레른지크마링겐 왕가 ['[UNK]', '왕가']\n",
      "15078 헹 삼린 ['[UNK]', '삼', '##린']\n",
      "15142 우젠슝 ['[UNK]']\n",
      "15365 카녜이 웨스트 ['[UNK]', '웨스트']\n",
      "15417 토튼햄 홋스퍼 ['토', '##튼', '##햄', '[UNK]']\n",
      "15581 베렝가리오 1세 ['[UNK]', '1', '##세']\n",
      "15669 토트넘 홋스퍼 ['토트넘', '[UNK]']\n",
      "15754 키미 래이쾨넨 ['키', '##미', '[UNK]']\n",
      "15880 웸블리 아레나 ['[UNK]', '아레나']\n",
      "16043 다롄 스더 ['[UNK]', '스', '##더']\n",
      "16154 욘 헤이팅아 ['[UNK]', '헤이', '##팅', '##아']\n",
      "16205 보이치에흐 슈쳉스니 ['보이', '##치', '##에', '##흐', '[UNK]']\n",
      "16477 金基昶 ['金', '基', '[UNK]']\n",
      "16579 위쾨넨 ['[UNK]']\n",
      "16584 토마스 뮐러 ['토마스', '[UNK]']\n",
      "16598 쑹타오 ['[UNK]']\n",
      "16922 횃불트리니티신학대학원대학교 ['[UNK]']\n",
      "16999 토트넘 홋스퍼 ['토트넘', '[UNK]']\n",
      "17016 홋카이도 ['[UNK]']\n",
      "17017 그로이터 퓌르트 ['그로', '##이터', '[UNK]']\n",
      "17081 펍메드 센트럴 ['[UNK]', '센트럴']\n",
      "17172 마누엘 파스콸 ['마누', '##엘', '[UNK]']\n",
      "17220 에스파뇰 ['[UNK]']\n",
      "17457 카게야마 슌 ['카', '##게', '##야마', '[UNK]']\n",
      "17555 리셴녠 ['[UNK]']\n",
      "17584 알베르 카뮈 ['알베르', '[UNK]']\n",
      "17786 우젠슝 ['[UNK]']\n",
      "17794 맬 영 ['[UNK]', '영']\n",
      "17867 데이비드 흄 ['데이비드', '[UNK]']\n",
      "17928 젬베콜라 ['[UNK]']\n",
      "18131 페트로 포로셴코 ['페트', '##로', '[UNK]']\n",
      "18339 SpVgg 그로이터 퓌르트 ['Sp', '##V', '##g', '##g', '그로', '##이터', '[UNK]']\n",
      "18347 랴오닝 훙윈 ['랴오', '##닝', '[UNK]']\n",
      "18366 아르툠 미코얀 ['[UNK]', '미', '##코', '##얀']\n",
      "18561 RÚV ['[UNK]']\n",
      "18618 토트넘 홋스퍼 ['토트넘', '[UNK]']\n",
      "18848 홋카이도 ['[UNK]']\n",
      "19126 군나르 뮈르달 ['군', '##나르', '[UNK]']\n",
      "19348 퍼퓸 지니어스 ['[UNK]', '지니', '##어스']\n",
      "19612 비욘세 ['[UNK]']\n",
      "19888 비욘세 ['[UNK]']\n",
      "19933 리콴유 ['[UNK]']\n",
      "19978 보루시아 묀헨글라트바흐 ['보루', '##시아', '[UNK]']\n",
      "20160 믈라덴 크르스타이치 ['[UNK]', '크', '##르', '##스타', '##이치']\n",
      "20271 카를 뵘 ['카를', '[UNK]']\n",
      "20435 산드로 마촐라 ['산', '##드로', '[UNK]']\n",
      "20446 펩 과르디올라 ['[UNK]', '과', '##르', '##디', '##올라']\n",
      "20772 맨도롱 또똣 ['맨', '##도', '##롱', '[UNK]']\n",
      "20895 자니오 꽈드로스 ['자니', '##오', '[UNK]']\n",
      "20932 이노우에 슌지 ['이노', '##우', '##에', '[UNK]']\n",
      "21334 레네 뉘스트룀 ['레', '##네', '[UNK]']\n",
      "21734 제임스 채드윅 ['제임스', '[UNK]']\n",
      "22054 마하 와치랄롱꼰 ['마하', '[UNK]']\n",
      "22474 우젠슝 ['[UNK]']\n",
      "22743 벵갈루루 FC ['[UNK]', 'FC']\n",
      "22927 비욘세 ['[UNK]']\n",
      "23102 마르크비비앙 푀 ['마르크', '##비', '##비', '##앙', '[UNK]']\n",
      "23162 마누엘 파스콸 ['마누', '##엘', '[UNK]']\n",
      "23213 화뤄겅 ['[UNK]']\n",
      "23241 가톨릭平和放送 ['가톨릭', '平', '和', '[UNK]', '[UNK]']\n",
      "23320 우젠슝 ['[UNK]']\n",
      "23364 리콴유 ['[UNK]']\n",
      "23595 제롬 보아텡 ['제', '##롬', '[UNK]']\n",
      "23925 아르툠 미코얀 ['[UNK]', '미', '##코', '##얀']\n",
      "24027 세르지 사르키샨 ['세르', '##지', '[UNK]']\n",
      "24331 RCD 에스파뇰 ['RC', '##D', '[UNK]']\n",
      "24610 FC 쾰른 ['FC', '[UNK]']\n",
      "24633 세르지 사르키샨 ['세르', '##지', '[UNK]']\n",
      "25144 이와이 슌지 ['이와', '##이', '[UNK]']\n",
      "25166 리셴녠 ['[UNK]']\n",
      "25275 예브게니 옙투셴코 ['예', '##브', '##게', '##니', '[UNK]']\n",
      "25390 자캅카스 SFSR ['[UNK]', 'SF', '##S', '##R']\n",
      "25469 다롄 스더 ['[UNK]', '스', '##더']\n",
      "25590 숀 탠 ['[UNK]', '탠']\n",
      "25718 1. FC 쾰른 ['1', '.', 'FC', '[UNK]']\n",
      "25760 똔텃투옛 ['[UNK]']\n",
      "25818 산둥 루넝 ['산둥', '[UNK]']\n",
      "25837 1. FC 쾰른 ['1', '.', 'FC', '[UNK]']\n",
      "25879 얀 루쳄부르스키 ['얀', '[UNK]']\n",
      "25996 니콜라이 이바노비치 로바쳅스키 ['니콜라', '##이', '이바', '##노', '##비치', '[UNK]']\n",
      "26010 숀 멘데스 ['[UNK]', '멘', '##데스']\n",
      "26201 빌헬름 푸르트벵글러 ['빌', '##헬', '##름', '[UNK]']\n",
      "26224 크리스 헴스워스 ['크리스', '[UNK]']\n",
      "26902 욘케레 ['[UNK]']\n",
      "27293 오스마르 이바녜스 ['오스', '##마르', '[UNK]']\n",
      "27391 데일리언 앳킨슨 ['데일리', '##언', '[UNK]']\n",
      "27421 데이비드 흄 ['데이비드', '[UNK]']\n",
      "27431 베렝가리오 1세 ['[UNK]', '1', '##세']\n",
      "27465 트리니 콴 ['트리', '##니', '[UNK]']\n",
      "27619 스티브 바라캇 ['스티브', '[UNK]']\n",
      "27738 엘리우드 킵초게 ['엘리', '##우드', '[UNK]']\n",
      "27802 시바우라 쥰 ['시바', '##우', '##라', '[UNK]']\n",
      "27984 브뢴뷔 IF ['[UNK]', 'IF']\n",
      "28128 에미넴 ['[UNK]']\n",
      "28431 유진 뎁스 ['유진', '[UNK]']\n",
      "28694 FC 쾨벤하운 ['FC', '[UNK]']\n",
      "28794 맷 켐프 ['맷', '[UNK]']\n",
      "29040 베렝가리오 1세 ['[UNK]', '1', '##세']\n",
      "29060 카를 귀츨라프 ['카를', '[UNK]']\n",
      "29095 똔텃투옛 ['[UNK]']\n",
      "29115 비욘세 ['[UNK]']\n",
      "29416 빌헬름 푸르트벵글러 ['빌', '##헬', '##름', '[UNK]']\n",
      "29419 스뱌토폴크 2세 ['[UNK]', '2', '##세']\n",
      "29505 압둘라 귈 ['압둘', '##라', '[UNK]']\n",
      "29514 리셴녠 ['[UNK]']\n",
      "29666 모리스 가믈랭 ['모리스', '[UNK]']\n",
      "29753 1. FC 쾰른 ['1', '.', 'FC', '[UNK]']\n",
      "29809 킵차크 칸국 ['[UNK]', '칸', '##국']\n",
      "29820 리콴유 ['[UNK]']\n",
      "30170 베렝가리오 1세 ['[UNK]', '1', '##세']\n",
      "30193 파비오 콸리아렐라 ['파', '##비', '##오', '[UNK]']\n",
      "30471 맬 영 ['[UNK]', '영']\n",
      "30700 리콴유 ['[UNK]']\n",
      "30786 리셴룽 ['[UNK]']\n",
      "30905 토트넘 홋스퍼 ['토트넘', '[UNK]']\n",
      "31057 쥘 베른 ['[UNK]', '베', '##른']\n",
      "31201 보루시아 묀헨글라트바흐 ['보루', '##시아', '[UNK]']\n",
      "31514 킵식스 ['[UNK]']\n",
      "31592 핼리팩스 ['[UNK]']\n",
      "32071 데일리언 앳킨슨 ['데일리', '##언', '[UNK]']\n",
      "223\n"
     ]
    }
   ],
   "source": [
    "unk_in_sub = []\n",
    "for i in range(len(words_df)):\n",
    "    if '[UNK]' in words_df.sub_token[i]:\n",
    "        print(i, words_df.sub_word[i], words_df.sub_token[i])\n",
    "        unk_in_sub.append([i, words_df.sub_word[i], words_df.sub_token[i]])\n",
    "print(len(unk_in_sub))"
   ]
  },
  {
   "cell_type": "code",
   "execution_count": 117,
   "metadata": {},
   "outputs": [
    {
     "name": "stdout",
     "output_type": "stream",
     "text": [
      "191 少弐氏 ['[UNK]', '[UNK]', '氏']\n",
      "374 玉置浩二 ['[UNK]', '[UNK]', '[UNK]', '二']\n",
      "418 KBS 全州放送總局 ['KBS', '全', '州', '[UNK]', '[UNK]', '[UNK]', '[UNK]']\n",
      "436 토트넘 홋스퍼 ['토트넘', '[UNK]']\n",
      "534 린뱌오 ['[UNK]']\n",
      "540 後北条氏 ['後', '北', '[UNK]', '氏']\n",
      "743 VfB 포르투나 켐니츠 ['V', '##f', '##B', '포르투', '##나', '[UNK]']\n",
      "1293 Hermann Müller ['Her', '##mann', '[UNK]']\n",
      "1485 서울動物園 ['서울', '動', '物', '[UNK]']\n",
      "1797 伊達氏 ['[UNK]', '[UNK]', '氏']\n",
      "1809 조니 뎁 ['조니', '[UNK]']\n",
      "1917 숲튽훈 ['[UNK]']\n",
      "1945 2008–09시즌 리그1 ['2008', '[UNK]', '09', '##시', '##즌', '리그', '##1']\n",
      "1956 토트넘 홋스퍼 ['토트넘', '[UNK]']\n",
      "1990 CCTV-4 中文国际 ['CCTV', '-', '4', '中', '文', '[UNK]', '[UNK]']\n",
      "1991 요미(よみ) ['요미', '(', '[UNK]', ')']\n",
      "2361 조니 뎁 ['조니', '[UNK]']\n",
      "2684 쇼니 씨(少弐氏) ['쇼', '##니', '씨', '(', '[UNK]', '[UNK]', '氏', ')']\n",
      "2717 후지코 후지오 Ⓐ ['후지', '##코', '후지', '##오', '[UNK]']\n",
      "2725 みゆき ['[UNK]']\n",
      "2802 쾰른 ['[UNK]']\n",
      "2825 쿰엔터테인먼트 ['[UNK]']\n",
      "2911 이스라엘 리숀레지온 ['이스라엘', '[UNK]']\n",
      "2932 토트넘 홋스퍼 ['토트넘', '[UNK]']\n",
      "3173 쓰네히토(恒仁) ['쓰', '##네', '##히', '##토', '(', '[UNK]', '仁', ')']\n",
      "3328 김극효(金克孝) ['김', '##극', '##효', '(', '金', '[UNK]', '[UNK]', ')']\n",
      "3908 國稅廳 ['國', '[UNK]', '[UNK]']\n",
      "3949 株式会社アニメーションドゥウ ['株', '式', '[UNK]', '社', '[UNK]']\n",
      "4042 française ['[UNK]']\n",
      "4294 김용수(金龍樹) ['김용', '##수', '(', '金', '龍', '[UNK]', ')']\n",
      "4300 아녜스 ['[UNK]']\n",
      "4379 명릉(明陵) ['명', '##릉', '(', '明', '[UNK]', ')']\n",
      "4380 東出昌大 ['東', '出', '[UNK]', '大']\n",
      "4428 쾰른의 브루노 ['[UNK]', '브루', '##노']\n",
      "4499 토트넘 홋스퍼 ['토트넘', '[UNK]']\n",
      "4695 郭在驥 ['[UNK]', '在', '[UNK]']\n",
      "4760 清和政策研究会 ['[UNK]', '和', '政', '[UNK]', '[UNK]', '究', '[UNK]']\n",
      "4881 Vedad Ibišević ['V', '##ed', '##ad', '[UNK]']\n",
      "5174 거서간(居西干) ['거', '##서', '##간', '(', '[UNK]', '西', '[UNK]', ')']\n",
      "5261 량훙즈 ['[UNK]']\n",
      "5487 에스파뇰 ['[UNK]']\n",
      "5529 あゆみ ['[UNK]']\n",
      "5664 이영(李永) ['이영', '(', '[UNK]', '[UNK]', ')']\n",
      "5954 梁啓超 ['[UNK]', '[UNK]', '[UNK]']\n",
      "6006 近衛家 ['近', '[UNK]', '家']\n",
      "6022 아녜스 드 부르고뉴 ['[UNK]', '드', '부르', '##고', '##뉴']\n",
      "6057 國民經濟諮問會議 ['國', '民', '經', '濟', '[UNK]', '問', '會', '議']\n",
      "6082 에미넴 ['[UNK]']\n",
      "6136 푸미폰 아둔야뎃 ['푸', '##미', '##폰', '[UNK]']\n",
      "6197 川村文乃 ['川', '村', '文', '[UNK]']\n",
      "6349 Dieter Hoeneß ['Die', '##ter', '[UNK]']\n",
      "6415 홋카이도 ['[UNK]']\n",
      "6622 Saša Drakulić ['[UNK]', '[UNK]']\n",
      "6667 崔彰權 ['[UNK]', '[UNK]', '權']\n",
      "6706 東出昌大 ['東', '出', '[UNK]', '大']\n",
      "6759 브뢴뷔 IF ['[UNK]', 'IF']\n",
      "7040 たなか ['[UNK]']\n",
      "7099 마하 와치랄롱꼰 ['마하', '[UNK]']\n",
      "7121 川村文乃 ['川', '村', '文', '[UNK]']\n",
      "7130 伊達氏 ['[UNK]', '[UNK]', '氏']\n",
      "7146 Christa Päffgen ['Christ', '##a', '[UNK]']\n",
      "7496 노오(盧塢) ['노', '##오', '(', '[UNK]', '[UNK]', ')']\n",
      "7509 히엡호아 황제 ['[UNK]', '황제']\n",
      "7590 森 喜朗 ['[UNK]', '[UNK]', '[UNK]']\n",
      "7914 蔚山放送 ['[UNK]', '山', '[UNK]', '[UNK]']\n",
      "8006 광둥 훙위안 ['광둥', '[UNK]']\n",
      "8067 Marcelino García Toral ['Mar', '##ce', '##lin', '##o', '[UNK]', 'To', '##ral']\n",
      "8284 1912년 10월 24일 – 1988년 11월 4일 ['1912', '##년', '10', '##월', '24', '##일', '[UNK]', '1988', '##년', '11', '##월', '4', '##일']\n",
      "8411 梁啓超 ['[UNK]', '[UNK]', '[UNK]']\n",
      "8434 홋카이도 ['[UNK]']\n",
      "8453 젬스키 소보르 ['[UNK]', '소', '##보', '##르']\n",
      "8473 Marcelino García Toral ['Mar', '##ce', '##lin', '##o', '[UNK]', 'To', '##ral']\n",
      "8502 홋카이도 ['[UNK]']\n",
      "8571 쓰촨 관청 ['[UNK]', '관청']\n",
      "8628 고구려(高句麗) ['고구려', '(', '高', '[UNK]', '[UNK]', ')']\n",
      "8777 Marcelino García Toral ['Mar', '##ce', '##lin', '##o', '[UNK]', 'To', '##ral']\n",
      "8982 위우거(衛右渠) ['위', '##우', '##거', '(', '[UNK]', '[UNK]', '[UNK]', ')']\n",
      "9002 監理會 ['[UNK]', '理', '會']\n",
      "9102 쓰촨 관청 ['[UNK]', '관청']\n",
      "9488 중화인민공화국 베이징시 하이뎬구 ['중화', '##인', '##민', '##공화국', '베이징', '##시', '[UNK]']\n",
      "9599 뎀나 바잘리아 ['[UNK]', '바', '##잘', '##리아']\n",
      "9825 金在俊 ['金', '在', '[UNK]']\n",
      "9865 앤더슨 쿠퍼 360° ['앤더슨', '쿠', '##퍼', '[UNK]']\n",
      "9920 스뱌토폴크 1세 ['[UNK]', '1', '##세']\n",
      "9972 藤原氏 ['[UNK]', '原', '氏']\n",
      "9980 조니 뎁 ['조니', '[UNK]']\n",
      "10020 힉스 메커니즘 ['[UNK]', '메커니즘']\n",
      "10129 세묜 티모셴코 ['[UNK]', '[UNK]']\n",
      "10178 에스파뇰 ['[UNK]']\n",
      "10698 홋카이도 ['[UNK]']\n",
      "10724 비류(沸流) ['비', '##류', '(', '[UNK]', '[UNK]', ')']\n",
      "10955 KBS晋州放送局 ['KBS', '[UNK]', '州', '[UNK]', '[UNK]', '[UNK]']\n",
      "10961 열암(冽巖) ['열', '##암', '(', '[UNK]', '[UNK]', ')']\n",
      "11019 경희궁 어조당(魚藻堂) ['경희', '##궁', '어조', '##당', '(', '[UNK]', '[UNK]', '堂', ')']\n",
      "11380 장항(長降) ['장항', '(', '長', '[UNK]', ')']\n",
      "11494 토트넘 홋스퍼 ['토트넘', '[UNK]']\n",
      "11671 竹内美宥 ['[UNK]', '[UNK]', '美', '[UNK]']\n",
      "11934 토트넘 홋스퍼 ['토트넘', '[UNK]']\n",
      "12022 막찐쭝 ['[UNK]']\n",
      "12150 이노우에 슌지 ['이노', '##우', '##에', '[UNK]']\n",
      "12268 송(宋) 황조 ['송', '(', '[UNK]', ')', '황', '##조']\n",
      "12370 음갈문왕(飮葛文王) ['음', '##갈', '##문', '##왕', '(', '[UNK]', '[UNK]', '文', '王', ')']\n",
      "12491 いけだ ['[UNK]']\n",
      "12824 釋迦牟尼 ['[UNK]', '[UNK]', '[UNK]', '[UNK]']\n",
      "12891 Marco Wölfli ['Mar', '##co', '[UNK]']\n",
      "13042 퍼쿤 씨 인트라팃 ['퍼', '##쿤', '씨', '[UNK]']\n",
      "13636 발해(渤海) ['발해', '(', '[UNK]', '海', ')']\n",
      "13937 토트넘 홋스퍼 ['토트넘', '[UNK]']\n",
      "13967 織田信長 ['[UNK]', '田', '信', '長']\n",
      "14002 이역(李懌) ['이', '##역', '(', '[UNK]', '[UNK]', ')']\n",
      "14023 토트넘 홋스퍼 ['토트넘', '[UNK]']\n",
      "14102 Dario Vidošić ['D', '##ar', '##io', '[UNK]']\n",
      "14181 織田信長 ['[UNK]', '田', '信', '長']\n",
      "14218 조슈아 웡 ['조', '##슈', '##아', '[UNK]']\n",
      "14369 鈴木貫太郎 ['[UNK]', '木', '[UNK]', '太', '[UNK]']\n",
      "14448 토트넘 홋스퍼 ['토트넘', '[UNK]']\n",
      "14512 統計廳 ['統', '[UNK]', '[UNK]']\n",
      "14617 鄭昌謨 ['鄭', '[UNK]', '[UNK]']\n",
      "14727 오슈 후지와라 씨(奧州藤原氏) ['오', '##슈', '후지', '##와', '##라', '씨', '(', '[UNK]', '州', '[UNK]', '原', '氏', ')']\n",
      "14741 광서(光緖) 34년 10월 21일(1908년 11월 14일) ['광', '##서', '(', '光', '[UNK]', ')', '34', '##년', '10', '##월', '21', '##일', '(', '1908', '##년', '11', '##월', '14', '##일', ')']\n",
      "14747 화뤄겅 ['[UNK]']\n",
      "14771 ルールー・アムール ['[UNK]', '・', '[UNK]']\n",
      "15501 문목왕후(文穆王后) ['문', '##목', '##왕', '##후', '(', '文', '[UNK]', '王', '[UNK]', ')']\n",
      "15541 원릉(元陵) ['원', '##릉', '(', '元', '[UNK]', ')']\n",
      "15569 에스파뇰 ['[UNK]']\n",
      "15667 海洋水産部 ['海', '[UNK]', '水', '産', '部']\n",
      "15677 조니 뎁 ['조니', '[UNK]']\n",
      "15726 織田信長 ['[UNK]', '田', '信', '長']\n",
      "15791 佐々木莉佳子 ['[UNK]', '[UNK]', '木', '[UNK]', '[UNK]', '子']\n",
      "15910 京畿放送 ['京', '[UNK]', '[UNK]', '[UNK]']\n",
      "15986 켐니츠 FC ['[UNK]', 'FC']\n",
      "16002 織田氏 ['[UNK]', '田', '氏']\n",
      "16143 さあや ['[UNK]']\n",
      "16275 高麗氏 ['高', '[UNK]', '氏']\n",
      "16406 KBS晋州放送局 ['KBS', '[UNK]', '州', '[UNK]', '[UNK]', '[UNK]']\n",
      "16478 李承萬 ['[UNK]', '[UNK]', '萬']\n",
      "16587 선무원종공신(宣武原從功臣) ['선', '##무원', '##종', '##공', '##신', '(', '[UNK]', '武', '原', '[UNK]', '[UNK]', '臣', ')']\n",
      "16699 少弐氏 ['[UNK]', '[UNK]', '氏']\n",
      "16735 젭 부시 ['[UNK]', '부시']\n",
      "16775 숀 폴 록하트 ['[UNK]', '폴', '록', '##하', '##트']\n",
      "16953 노바스코샤주 핼리팩스 ['노바', '##스코', '##샤', '##주', '[UNK]']\n",
      "16956 영릉(英陵) ['영', '##릉', '(', '英', '[UNK]', ')']\n",
      "16993 홋카이도 ['[UNK]']\n",
      "17521 단종(端宗) ['단종', '(', '[UNK]', '宗', ')']\n",
      "17570 島田裕介 ['島', '田', '[UNK]', '[UNK]']\n",
      "17583 Víctor Ruiz Torre ['[UNK]', 'R', '##u', '##iz', 'To', '##r', '##re']\n",
      "17717 김원숭(金元崇) ['김원', '##숭', '(', '金', '元', '[UNK]', ')']\n",
      "17873 韓國技術敎育大學校 ['韓', '國', '[UNK]', '[UNK]', '敎', '[UNK]', '大', '學', '[UNK]']\n",
      "17912 칠점선(七點仙) ['칠', '##점', '##선', '(', '七', '[UNK]', '[UNK]', ')']\n",
      "18247 徳川氏 ['[UNK]', '川', '氏']\n",
      "18279 홍희(洪熙) 원년 5월 12일(1425년 5월 29일) ['홍', '##희', '(', '[UNK]', '[UNK]', ')', '원년', '5', '##월', '12', '##일', '(', '142', '##5', '##년', '5', '##월', '29', '##일', ')']\n",
      "18302 장항(長降) ['장항', '(', '長', '[UNK]', ')']\n",
      "18466 뱌체슬라프 몰로토프 ['[UNK]', '몰', '##로', '##토', '##프']\n",
      "18585 쇼니 씨(少弐氏) ['쇼', '##니', '씨', '(', '[UNK]', '[UNK]', '氏', ')']\n",
      "18588 순흥(順興) ['순', '##흥', '(', '[UNK]', '[UNK]', ')']\n",
      "18753 열조(烈祖) ['열', '##조', '(', '[UNK]', '祖', ')']\n",
      "18925 李娥珠 ['[UNK]', '[UNK]', '[UNK]']\n",
      "19105 혁거세거서간(居西干) ['혁', '##거', '##세', '##거', '##서', '##간', '(', '[UNK]', '西', '[UNK]', ')']\n",
      "19232 Ivica Vastić ['I', '##v', '##ic', '##a', '[UNK]']\n",
      "19254 藤原氏 ['[UNK]', '原', '氏']\n",
      "19358 FC Südtirol ['FC', '[UNK]']\n",
      "19359 풍천(豊川) ['풍', '##천', '(', '[UNK]', '川', ')']\n",
      "19447 洪景來 ['[UNK]', '[UNK]', '來']\n",
      "19458 尹鍾信 ['[UNK]', '[UNK]', '信']\n",
      "19542 蔡基中 ['[UNK]', '基', '中']\n",
      "19842 왕후(王煦) ['왕후', '(', '王', '[UNK]', ')']\n",
      "19923 梁啓超 ['[UNK]', '[UNK]', '[UNK]']\n",
      "20053 織田信長 ['[UNK]', '田', '信', '長']\n",
      "20066 織田信長 ['[UNK]', '田', '信', '長']\n",
      "20121 의릉(懿陵) ['의', '##릉', '(', '[UNK]', '[UNK]', ')']\n",
      "20167 RCD 에스파뇰 ['RC', '##D', '[UNK]']\n",
      "20196 ÖBB ['[UNK]']\n",
      "20210 聯合國 ['[UNK]', '合', '國']\n",
      "20289 오키코(興子) ['오키', '##코', '(', '[UNK]', '子', ')']\n",
      "20630 혼덕공(昏德公) ['혼', '##덕', '##공', '(', '[UNK]', '德', '公', ')']\n",
      "20938 서벵골주 ['[UNK]']\n",
      "21025 栃木SC ['[UNK]', '木', 'SC']\n",
      "21078 圖書館 ['圖', '書', '[UNK]']\n",
      "21178 國民年金公團 ['國', '民', '年', '金', '公', '[UNK]']\n",
      "21218 토트넘 홋스퍼 ['토트넘', '[UNK]']\n",
      "21590 金基昶 ['金', '基', '[UNK]']\n",
      "21658 まどか ['[UNK]']\n",
      "21729 唐田えりか ['[UNK]', '田', '[UNK]']\n",
      "21953 이융기(李隆基) ['이', '##융', '##기', '(', '[UNK]', '[UNK]', '基', ')']\n",
      "22016 건릉(健陵) ['건', '##릉', '(', '[UNK]', '[UNK]', ')']\n",
      "22028 효헌(孝獻) ['효', '##헌', '(', '[UNK]', '[UNK]', ')']\n",
      "22038 아녜스 ['[UNK]']\n",
      "22257 David Jarolím ['David', '[UNK]']\n",
      "22344 뎀나 바잘리아 ['[UNK]', '바', '##잘', '##리아']\n",
      "22434 Śākyamuni ['[UNK]']\n",
      "22661 Μίκης Θεοδωράκης ['[UNK]', '[UNK]']\n",
      "22749 Håvard Nordtveit ['[UNK]', 'No', '##r', '##d', '##t', '##ve', '##it']\n",
      "22836 홋카이도 ['[UNK]']\n",
      "22859 류천궁(柳天弓) ['류', '##천', '##궁', '(', '[UNK]', '天', '[UNK]', ')']\n",
      "22904 하숙(河淑) ['하숙', '(', '河', '[UNK]', ')']\n",
      "23488 젬스키 소보르 ['[UNK]', '소', '##보', '##르']\n",
      "23625 中川亜紀子なかがわ あきこ ['中', '川', '[UNK]', '[UNK]', '子', '[UNK]', '[UNK]']\n",
      "23654 FC 로셍오르드 ['FC', '[UNK]']\n",
      "23887 왕순(王詢) ['왕', '##순', '(', '王', '[UNK]', ')']\n",
      "23917 토트넘 홋스퍼 ['토트넘', '[UNK]']\n",
      "23995 Mislav Oršić ['M', '##is', '##l', '##av', '[UNK]']\n",
      "24092 曺世鉉 ['[UNK]', '世', '[UNK]']\n",
      "24425 원릉(元陵) ['원', '##릉', '(', '元', '[UNK]', ')']\n",
      "24742 한예(韓銳) ['한', '##예', '(', '韓', '[UNK]', ')']\n",
      "24883 浙江广播电视集团 ['[UNK]', '江', '[UNK]', '[UNK]', '[UNK]', '[UNK]', '集', '[UNK]']\n",
      "25050 韓國海洋科學技術院 ['韓', '國', '海', '[UNK]', '[UNK]', '學', '[UNK]', '[UNK]', '院']\n",
      "25054 萬國郵便聯合 ['萬', '國', '[UNK]', '[UNK]', '[UNK]', '合']\n",
      "25201 RÚV ['[UNK]']\n",
      "25234 왕후(王煦) ['왕후', '(', '王', '[UNK]', ')']\n",
      "25258 동지추밀원사(同知樞密院事) ['동지', '##추', '##밀', '##원', '##사', '(', '同', '知', '[UNK]', '[UNK]', '院', '事', ')']\n",
      "25301 香港工會聯合會 ['[UNK]', '[UNK]', '[UNK]', '會', '[UNK]', '合', '會']\n",
      "25349 Jürgen Kohler ['[UNK]', 'K', '##oh', '##ler']\n",
      "25443 梁啓超 ['[UNK]', '[UNK]', '[UNK]']\n",
      "25660 成膳任 ['成', '[UNK]', '任']\n",
      "25915 조니 뎁 ['조니', '[UNK]']\n",
      "25921 비엣꾸옥 (Việt Quốc) ['비', '##엣', '##꾸', '##옥', '(', '[UNK]', '[UNK]', ')']\n",
      "26290 영천(永川) ['영천', '(', '[UNK]', '川', ')']\n",
      "26345 프랑스 르퓌앙벌레 ['프랑스', '[UNK]']\n",
      "26361 류천궁(柳天弓) ['류', '##천', '##궁', '(', '[UNK]', '天', '[UNK]', ')']\n",
      "26374 멍훙웨이 ['[UNK]']\n",
      "26460 두샨 바예비치 ['[UNK]', '바', '##예', '##비치']\n",
      "26525 토트넘 홋스퍼 ['토트넘', '[UNK]']\n",
      "26574 껀브엉 운동 ['[UNK]', '운동']\n",
      "26592 겐츨레르비를리이 ['[UNK]']\n",
      "26596 압뒬메지트 1세 ['[UNK]', '1', '##세']\n",
      "26734 971년–995년 ['97', '##1', '##년', '[UNK]', '99', '##5', '##년']\n",
      "26758 빅토르 유셴코 ['빅토르', '[UNK]']\n",
      "26907 홍콩 첵랍콕 국제공항 ['홍콩', '[UNK]', '국제공항']\n",
      "27003 궁예(弓裔) ['궁예', '(', '[UNK]', '[UNK]', ')']\n",
      "27011 Club Sport Marítimo ['Cl', '##ub', 'Sp', '##ort', '[UNK]']\n",
      "27057 Samuel Rosa Gonçalves ['S', '##am', '##ue', '##l', 'Ro', '##s', '##a', '[UNK]']\n",
      "27115 토트넘 홋스퍼 ['토트넘', '[UNK]']\n",
      "27122 촐라 제국 ['[UNK]', '제국']\n",
      "27135 豊臣氏 ['[UNK]', '臣', '氏']\n",
      "27183 평강상호왕(平崗上好王) ['평', '##강', '##상', '##호', '##왕', '(', '平', '[UNK]', '上', '[UNK]', '王', ')']\n",
      "27215 마하 와치랄롱꼰 ['마하', '[UNK]']\n",
      "27249 MBC慶南 晋州放送 ['MBC', '[UNK]', '南', '[UNK]', '州', '[UNK]', '[UNK]']\n",
      "27327 みなみ ['[UNK]']\n",
      "27484 다이카인(大慶) 7년 3월 16일(1320년 4월 24일) ['다이', '##카', '##인', '(', '大', '[UNK]', ')', '7', '##년', '3', '##월', '16', '##일', '(', '132', '##0', '##년', '4', '##월', '24', '##일', ')']\n",
      "27545 위쾨넨 ['[UNK]']\n",
      "27709 真田氏 ['[UNK]', '田', '氏']\n",
      "27771 호엔촐레른 ['[UNK]']\n",
      "27951 토트넘 홋스퍼 ['토트넘', '[UNK]']\n",
      "27988 이현(李儇) ['이현', '(', '[UNK]', '[UNK]', ')']\n",
      "28026 少弐氏 ['[UNK]', '[UNK]', '氏']\n",
      "28033 궁예(弓裔) ['궁예', '(', '[UNK]', '[UNK]', ')']\n",
      "28193 토트넘 홋스퍼 ['토트넘', '[UNK]']\n",
      "28378 쾨니히스베르크 대학교 ['[UNK]', '대학교']\n",
      "28380 조니 뎁 ['조니', '[UNK]']\n",
      "28449 たかし ['[UNK]']\n",
      "28478 大内氏 ['大', '[UNK]', '氏']\n",
      "28687 KBS春川放送總局 ['KBS', '春', '川', '[UNK]', '[UNK]', '[UNK]', '[UNK]']\n",
      "28702 織田信長 ['[UNK]', '田', '信', '長']\n",
      "28876 휴정(休靜) ['휴', '##정', '(', '[UNK]', '[UNK]', ')']\n",
      "28966 靑瓦臺 ['靑', '[UNK]', '[UNK]']\n",
      "29316 Real Madrid Club de Fútbol ['Re', '##al', 'Ma', '##d', '##rid', 'Cl', '##ub', 'de', '[UNK]']\n",
      "29550 조니 뎁 ['조니', '[UNK]']\n",
      "29639 헤르만 반 롬푀이 ['헤르', '##만', '반', '[UNK]']\n",
      "29808 郭在驥 ['[UNK]', '在', '[UNK]']\n",
      "30038 李鍾熙 ['[UNK]', '[UNK]', '[UNK]']\n",
      "30372 절강(浙江) ['절', '##강', '(', '[UNK]', '江', ')']\n",
      "30401 韓國電力公社 ['韓', '國', '[UNK]', '力', '公', '社']\n",
      "30425 Mustafa Kemal Atatürk ['Mus', '##t', '##af', '##a', 'K', '##em', '##al', '[UNK]']\n",
      "30641 仁川港灣公社 ['仁', '川', '[UNK]', '[UNK]', '公', '社']\n",
      "30800 Διόνυσος ['[UNK]']\n",
      "30889 쓰촨 취안싱 ['[UNK]', '취', '##안', '##싱']\n",
      "31075 東出昌大 ['東', '出', '[UNK]', '大']\n",
      "31194 토트넘 홋스퍼 ['토트넘', '[UNK]']\n",
      "31406 香西 香 ['[UNK]', '西', '[UNK]']\n",
      "31491 사카이 나카(酒井ナカ) ['사카', '##이', '나카', '(', '[UNK]', '[UNK]', '[UNK]', ')']\n",
      "31613 현종(顯宗) ['현종', '(', '[UNK]', '宗', ')']\n",
      "31725 先進統一黨 ['先', '[UNK]', '統', '一', '黨']\n",
      "31809 타욘데이 브랙스톤 ['[UNK]', '브', '##랙', '##스톤']\n",
      "31907 김용수(金龍樹) ['김용', '##수', '(', '金', '龍', '[UNK]', ')']\n",
      "31915 織田信長 ['[UNK]', '田', '信', '長']\n",
      "31934 김춘추(金春秋) ['김춘', '##추', '(', '金', '春', '[UNK]', ')']\n",
      "31936 성주(星州) ['성주', '(', '[UNK]', '州', ')']\n",
      "32062 소릉(昭陵) ['소', '##릉', '(', '[UNK]', '[UNK]', ')']\n",
      "32131 웅진(熊津) ['웅진', '(', '[UNK]', '[UNK]', ')']\n",
      "32216 문명황후(文明皇后) ['문명', '##황후', '(', '文', '明', '[UNK]', '[UNK]', ')']\n",
      "32303 홋카이도 제1구 ['[UNK]', '제', '##1', '##구']\n",
      "32411 가톨릭平和放送 ['가톨릭', '平', '和', '[UNK]', '[UNK]']\n",
      "282\n"
     ]
    }
   ],
   "source": [
    "unk_in_ob = []\n",
    "for i in range(len(words_df)):\n",
    "    if '[UNK]' in words_df.ob_token[i]:\n",
    "        print(i, words_df.ob_word[i], words_df.ob_token[i])\n",
    "        unk_in_ob.append([i, words_df.ob_word[i], words_df.ob_token[i]])\n",
    "print(len(unk_in_ob))"
   ]
  },
  {
   "attachments": {},
   "cell_type": "markdown",
   "metadata": {},
   "source": [
    "### 💡 결론\n",
    "- subject word에 [UNK] 있음 : 223\n",
    "- object word에 [UNK] 있음 : 282\n",
    "- 전체 데이터 사이즈 : 32470"
   ]
  },
  {
   "attachments": {},
   "cell_type": "markdown",
   "metadata": {},
   "source": [
    "### 💡 고민해야할 부분\n",
    "- subject word와 object word가 문장에서 tokenize 되면서 하나의 토큰이 아닌 여러개의 토큰으로 쪼개짐 \n",
    "- subject word와 object word는 하나의 토큰으로 취급되는 것이 좋지 않을까!\n",
    "    1. subject word와 object word를 [SUB], [OBJ]와 같은 단어로 마스킹하고 vocab에 추가?\n",
    "        - 반대로 마스킹 했을 때 유실되는 데이터 정보도 고려해 봐야함\n",
    "    2. NER을 통해 어떤 객체 명으로 인식하게 하여 학습?\n",
    "        - type 정보를 활용\n",
    "- 모르는 단어로 이루어진 문장\n",
    "    - 예시 : 숲튽훈, 後北条氏, 요미(よみ)\n",
    "    1. 전처리를 하여 한자 등의 vocab에 없는 단어 대체?\n",
    "    2. 위의 [SUB], [OBJ] 마스킹 또는 NER을 통해 처리?"
   ]
  },
  {
   "attachments": {},
   "cell_type": "markdown",
   "metadata": {},
   "source": [
    "## tokenize and length check"
   ]
  },
  {
   "cell_type": "code",
   "execution_count": null,
   "metadata": {},
   "outputs": [],
   "source": [
    "def tokenize_by_df(dataset: pd.DataFrame) -> dict:\n",
    "        \"\"\"dataset을 입력받아 sub, obj entity, sentence를 이어붙이고 tokenize합니다.\"\"\"\n",
    "        sub_df = pd.read_csv('./subject_entity.csv')\n",
    "        ob_df = pd.read_csv('./object_entity.csv')\n",
    "        for i in range(len(dataset)):\n",
    "            joined_entity = \"[SEP]\".join([sub_df['word'][i], ob_df['word'][i]])\n",
    "            input_sentence = \"[CLS]\" + joined_entity + '[SEP]' + dataset['sentence'][i] + '[SEP]'\n",
    "        # entity를 인식시켜주는 부분과 문장 부분을 서로 다른 token type id로 구별하기 위해서 joined_entity와 sentence를 따로 넣어줌\n",
    "        tokenized_sentence = tokenizer(\n",
    "            input_sentence,\n",
    "            add_special_tokens=True,\n",
    "            padding=\"max_length\",\n",
    "            truncation=True,\n",
    "            return_tensors=\"pt\",\n",
    "        )\n",
    "\n",
    "        return tokenized_sentence"
   ]
  },
  {
   "cell_type": "code",
   "execution_count": null,
   "metadata": {},
   "outputs": [],
   "source": [
    "def tokenize_item(items: str):\n",
    "    \"\"\"sub, obj entity가 이어붙어져 있는 sentence를 받아 tokenize합니다.\"\"\"\n",
    "    tokenized_sentence = tokenizer(items)\n",
    "    token_ids = tokenizer.convert_ids_to_tokens(tokenized_sentence['input_ids'])\n",
    "    return tokenized_sentence, token_ids\n",
    "\n",
    "# sub_df = pd.read_csv('./subject_entity.csv')\n",
    "# ob_df = pd.read_csv('./object_entity.csv')\n",
    "result = []\n",
    "for i in range(len(dataset)):\n",
    "    joined_entity = \"[SEP]\".join([sub_df['word'][i], ob_df['word'][i]])\n",
    "    input_sentence = \"[CLS]\" + joined_entity + '[SEP]' + dataset['sentence'][i] + '[SEP]'\n",
    "    tokenized_sentence, token_ids = tokenize_item(input_sentence)\n",
    "    result.append(token_ids)"
   ]
  },
  {
   "cell_type": "code",
   "execution_count": null,
   "metadata": {},
   "outputs": [
    {
     "name": "stdout",
     "output_type": "stream",
     "text": [
      "max :  239  | min :  16  | mean :  62.571943332306745\n"
     ]
    },
    {
     "data": {
      "image/png": "[encoded data removed]",
      "text/plain": [
       "<Figure size 640x480 with 1 Axes>"
      ]
     },
     "metadata": {},
     "output_type": "display_data"
    }
   ],
   "source": [
    "tokenized_input = [len(result[i]) for i in range(len(result))]\n",
    "tokenized_input\n",
    "print('max : ', max(tokenized_input), ' | min : ', min(tokenized_input), ' | mean : ', np.mean(tokenized_input))\n",
    "plt.hist(tokenized_input, bins=50, label='bins=50')\n",
    "plt.legend()\n",
    "plt.show()"
   ]
  },
  {
   "attachments": {},
   "cell_type": "markdown",
   "metadata": {},
   "source": [
    "## marking and tokenizing"
   ]
  },
  {
   "cell_type": "code",
   "execution_count": null,
   "metadata": {},
   "outputs": [],
   "source": [
    "# marking으로 활용할 데이터 체크\n",
    "sents = dataset['sentence']\n",
    "for s in sents:\n",
    "    if '@' in s: print(\"Cannot use '@'\")\n",
    "    elif '<<' in s or '>>' in s: print(\"Cannot use '<<>>'\")\n",
    "\n",
    "# 만일 @를 활용할 것이라면 전처리를 할 때에 @ 를 제거해주자"
   ]
  },
  {
   "cell_type": "code",
   "execution_count": null,
   "metadata": {},
   "outputs": [],
   "source": [
    "def make_marked_sentence(df=dataset):\n",
    "    sub_df = pd.read_csv('./subject_entity.csv')\n",
    "    ob_df = pd.read_csv('./object_entity.csv')\n",
    "\n",
    "    sentences = df['sentence']\n",
    "    marked_sentences = []\n",
    "    for i in range(len(sentences)):\n",
    "        sent = sentences[i]\n",
    "        sub_idx = sent.find(sub_df['word'][i])\n",
    "        sent = sent[:sub_idx] +'@' + sub_df['word'][i] + '@' + sent[sub_idx+len(sub_df['word'][i]):]\n",
    "        ob_idx = sent.find(ob_df['word'][i])\n",
    "        sent = sent[:ob_idx] +'@' + ob_df['word'][i] + '@' + sent[ob_idx+len(ob_df['word'][i]):]\n",
    "        marked_sentences.append(sent)\n",
    "    return marked_sentences\n"
   ]
  },
  {
   "cell_type": "code",
   "execution_count": null,
   "metadata": {},
   "outputs": [],
   "source": [
    "marked_sentences = make_marked_sentence()"
   ]
  },
  {
   "cell_type": "code",
   "execution_count": null,
   "metadata": {},
   "outputs": [],
   "source": [
    "mark_token_list = []\n",
    "for marked_sent in marked_sentences:\n",
    "    _, temp = tokenize_item(marked_sent)\n",
    "    mark_token_list.append(temp)\n",
    "\n",
    "token1_idxs =[]\n",
    "token2_idxs =[]\n",
    "for i in range(len(mark_token_list)):\n",
    "    mrtk = mark_token_list[i]\n",
    "    find = []\n",
    "    for j in range(len(mrtk)):\n",
    "        if mrtk[j] == '@' :\n",
    "            find.append(j)\n",
    "    token1_idxs.append(find[0])\n",
    "    token2_idxs.append(find[2])"
   ]
  },
  {
   "cell_type": "code",
   "execution_count": null,
   "metadata": {},
   "outputs": [
    {
     "name": "stdout",
     "output_type": "stream",
     "text": [
      "max diff :  167  | min diff :  3\n",
      "diff total :  32470\n",
      "diff > 75 :  121\n",
      "diff > 100 :  27\n",
      "diff > 110 :  17\n"
     ]
    },
    {
     "data": {
      "image/png": "[encoded data removed]",
      "text/plain": [
       "<Figure size 640x480 with 1 Axes>"
      ]
     },
     "metadata": {},
     "output_type": "display_data"
    }
   ],
   "source": [
    "token_idx_diff = pd.DataFrame()\n",
    "token_idx_diff['token1_idx'] = token1_idxs\n",
    "token_idx_diff['token2_idx'] = token2_idxs\n",
    "\n",
    "token_idx_diff['diff'] = token_idx_diff['token2_idx'] - token_idx_diff['token1_idx']\n",
    "\n",
    "print('max diff : ', max(token_idx_diff['diff']), ' | min diff : ' , min(token_idx_diff['diff']))\n",
    "print('diff total : ', len(token_idx_diff))\n",
    "print('diff > 75 : ', len(token_idx_diff[token_idx_diff['diff']>75]))\n",
    "print('diff > 100 : ', len(token_idx_diff[token_idx_diff['diff']>100]))\n",
    "print('diff > 110 : ', len(token_idx_diff[token_idx_diff['diff']>110]))\n",
    "plt.hist(token_idx_diff['diff'], bins=50, label='bins=50')\n",
    "plt.legend()\n",
    "plt.show()"
   ]
  },
  {
   "cell_type": "code",
   "execution_count": null,
   "metadata": {},
   "outputs": [
    {
     "name": "stdout",
     "output_type": "stream",
     "text": [
      "max diff :  97  | min diff :  3\n",
      "diff total :  32328\n",
      "diff > 75 :  68\n",
      "diff > 100 :  0\n"
     ]
    },
    {
     "data": {
      "image/png": "[encoded data removed]",
      "text/plain": [
       "<Figure size 640x480 with 1 Axes>"
      ]
     },
     "metadata": {},
     "output_type": "display_data"
    }
   ],
   "source": [
    "diff = pd.DataFrame()\n",
    "diff['diff'] = token_idx_diff[(token_idx_diff['token1_idx'] < 100) & (token_idx_diff['token2_idx'] < 100)]['diff']\n",
    "\n",
    "print('max diff : ', max(diff['diff']), ' | min diff : ' , min(diff['diff']))\n",
    "print('diff total : ', len(diff))\n",
    "print('diff > 75 : ', len(diff[diff['diff']>75]))\n",
    "print('diff > 100 : ', len(diff[diff['diff']>100]))\n",
    "\n",
    "plt.hist(diff, bins=50, label='bins=50')\n",
    "plt.legend()\n",
    "plt.show()"
   ]
  },
  {
   "attachments": {},
   "cell_type": "markdown",
   "metadata": {},
   "source": [
    "### 💡 결론\n",
    "- max_len = 200 (baseline 기준) -> 그대로 활용해도 무방할듯\n",
    "    - 오히려 더 줄여도 괜찮을 것 같음\n",
    "- 해당 결과를 데이터셋에 저장하고 추후 subj, obj 거리가 클수록/작을수록 학습 성능이 어떠한지 판단할 수 있음"
   ]
  }
 ],
 "metadata": {
  "kernelspec": {
   "display_name": "Python 3 (ipykernel)",
   "language": "python",
   "name": "python3"
  },
  "language_info": {
   "codemirror_mode": {
    "name": "ipython",
    "version": 3
   },
   "file_extension": ".py",
   "mimetype": "text/x-python",
   "name": "python",
   "nbconvert_exporter": "python",
   "pygments_lexer": "ipython3",
   "version": "3.8.5"
  }
 },
 "nbformat": 4,
 "nbformat_minor": 4
}
